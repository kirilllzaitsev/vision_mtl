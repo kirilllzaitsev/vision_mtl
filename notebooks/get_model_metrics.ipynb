{
 "cells": [
  {
   "cell_type": "markdown",
   "metadata": {},
   "source": [
    "#### This notebook fetches the models from Comet ML and runs them on the holdout set. Its output is a CSV file with the metrics for each model for a given dataset, either Cityscapes or NYUv2."
   ]
  },
  {
   "cell_type": "code",
   "execution_count": 8,
   "metadata": {},
   "outputs": [],
   "source": [
    "import os\n",
    "import argparse\n",
    "import yaml\n",
    "from pathlib import Path\n",
    "\n",
    "import pandas as pd\n",
    "\n",
    "import torch\n",
    "from comet_ml import API\n",
    "%autoreload 2"
   ]
  },
  {
   "cell_type": "code",
   "execution_count": 9,
   "metadata": {},
   "outputs": [],
   "source": [
    "from vision_mtl.utils.comet_utils import load_artifacts_from_comet, model_to_exp_name\n",
    "from vision_mtl.lit_module import MTLModule\n",
    "from vision_mtl.utils.pipeline_utils import build_model\n",
    "from vision_mtl.utils.pipeline_utils import load_ckpt_model\n",
    "from vision_mtl.cfg import cfg, root_dir\n",
    "from vision_mtl.lit_datamodule import MTLDataModule\n",
    "from vision_mtl.training_lit import predict\n",
    "from vision_mtl.utils.pipeline_utils import fetch_data_cfg"
   ]
  },
  {
   "cell_type": "code",
   "execution_count": 10,
   "metadata": {},
   "outputs": [],
   "source": [
    "comet_api = API(api_key=os.environ[\"COMET_API_KEY\"])"
   ]
  },
  {
   "cell_type": "code",
   "execution_count": 11,
   "metadata": {},
   "outputs": [],
   "source": [
    "dataset_name = \"cityscapes\"\n",
    "# dataset_name = \"nyuv2\"\n",
    "\n",
    "if dataset_name == \"cityscapes\":\n",
    "    data_cfg = fetch_data_cfg(\"cityscapes\")\n",
    "else:\n",
    "    data_cfg = fetch_data_cfg(\"nyuv2\")"
   ]
  },
  {
   "cell_type": "code",
   "execution_count": null,
   "metadata": {},
   "outputs": [],
   "source": [
    "metrics_df_dict = {}\n",
    "\n",
    "for idx, model_name in enumerate(model_to_exp_name.keys()):\n",
    "    exp_name = model_to_exp_name[model_name][dataset_name]\n",
    "    artifacts_dir = f\"{root_dir}/artifacts/{exp_name}\"\n",
    "    args_name_no_ext = \"train_args\"\n",
    "    model_artifact_name = \"model\"\n",
    "    artifacts = load_artifacts_from_comet(\n",
    "        exp_name=exp_name,\n",
    "        local_artifacts_dir=artifacts_dir,\n",
    "        model_artifact_name=model_artifact_name,\n",
    "        args_name_no_ext=args_name_no_ext,\n",
    "        api=comet_api,\n",
    "    )\n",
    "    args = argparse.Namespace(\n",
    "        **yaml.safe_load(\n",
    "            open(\n",
    "                artifacts[\"args_path\"],\n",
    "                \"r\",\n",
    "            )\n",
    "        )[\"args\"]\n",
    "    )\n",
    "\n",
    "    model = build_model(args, data_cfg)\n",
    "    module = MTLModule(model=model, num_classes=data_cfg.num_classes)\n",
    "\n",
    "    model_ckpt = load_ckpt_model(Path(artifacts[\"checkpoint_path\"]).parent)\n",
    "    module.load_state_dict(model_ckpt[\"model\"])\n",
    "\n",
    "    datamodule = MTLDataModule(\n",
    "        dataset_name=dataset_name,\n",
    "        batch_size=args.batch_size,\n",
    "        do_overfit=args.do_overfit,\n",
    "        train_transform=data_cfg.train_transform,\n",
    "        test_transform=data_cfg.test_transform,\n",
    "        num_workers=0,\n",
    "    )\n",
    "    datamodule.setup()\n",
    "\n",
    "    preds, predict_metrics = predict(\n",
    "        datamodule.predict_dataloader(),\n",
    "        module,\n",
    "        cfg.device,\n",
    "        do_plot_preds=False,\n",
    "        do_show_preds=True,\n",
    "    )\n",
    "    torch.save(preds, os.path.join(artifacts_dir, \"preds.pt\"))\n",
    "    metrics_df_dict[model_name] = predict_metrics\n",
    "    print(predict_metrics)\n",
    "    print(f'Done with {model_name}')"
   ]
  },
  {
   "cell_type": "code",
   "execution_count": null,
   "metadata": {},
   "outputs": [],
   "source": [
    "metrics_df = pd.DataFrame(metrics_df_dict).round(3)\n",
    "metrics_df"
   ]
  }
 ],
 "metadata": {
  "kernelspec": {
   "display_name": "sc",
   "language": "python",
   "name": "python3"
  },
  "language_info": {
   "codemirror_mode": {
    "name": "ipython",
    "version": 3
   },
   "file_extension": ".py",
   "mimetype": "text/x-python",
   "name": "python",
   "nbconvert_exporter": "python",
   "pygments_lexer": "ipython3",
   "version": "3.9.16"
  }
 },
 "nbformat": 4,
 "nbformat_minor": 2
}
